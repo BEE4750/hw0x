{
  "cells": [
    {
      "cell_type": "markdown",
      "metadata": {},
      "source": [
        "# BEE 4750 Homework 2: Gaussian Plumes\n",
        "\n",
        "**Name**:\n",
        "\n",
        "**ID**:\n",
        "\n",
        "> **Due Date**\n",
        ">\n",
        "> Friday, 9/22/23, 9:00pm\n",
        "\n",
        "## Overview\n",
        "\n",
        "### Instructions\n",
        "\n",
        "-   Problem 1 asks you to compute the concentration of a pollutant from\n",
        "    a point souce at a ground-level receptor and compare this\n",
        "    concentration to a regulatory exposure standard.\n",
        "-   Problem 2 involves writing a simulation model for Gaussian plume\n",
        "    dispersion and looking at the sensitivity of the dispersion and\n",
        "    concentrations to changes in atmospheric stability and wind speed.\n",
        "-   Problem 3 asks you to examine the impact of two point sources on\n",
        "    ground-level receptor concentrations.\n",
        "\n",
        "### Load Environment\n",
        "\n",
        "The following code loads the environment and makes sure all needed\n",
        "packages are installed. This should be at the start of most Julia\n",
        "scripts."
      ],
      "id": "af639437-b349-48fd-8e1c-f2bc0da56667"
    },
    {
      "cell_type": "code",
      "execution_count": 1,
      "metadata": {},
      "outputs": [],
      "source": [
        "import Pkg\n",
        "Pkg.activate(@__DIR__)\n",
        "Pkg.instantiate()"
      ],
      "id": "99dc388c"
    },
    {
      "cell_type": "code",
      "execution_count": 2,
      "metadata": {},
      "outputs": [],
      "source": [
        "using Plots\n",
        "using LaTeXStrings\n",
        "using DataFrames"
      ],
      "id": "416f622a"
    },
    {
      "cell_type": "markdown",
      "metadata": {},
      "source": [
        "## Problems (Total: 100 Points)"
      ],
      "id": "5aeba37e-b62d-466a-96a0-28ae121a31ab"
    },
    {
      "cell_type": "markdown",
      "metadata": {},
      "source": [
        "### Problem 1 (40 points)\n",
        "\n",
        "A ground-level receptor is located 1.5 km downwind from the center-line\n",
        "of a chimney emitting 2 kg/s of SO<sub>2</sub>. The chimney is 100m high\n",
        "and the plume initially rises another 10m being advected downwind. We\n",
        "want to know what"
      ],
      "id": "882a24bf-7a47-483e-9b7a-73ba1800e69e"
    },
    {
      "cell_type": "markdown",
      "metadata": {},
      "source": [
        "#### Problem 1.1 (20 points)\n",
        "\n",
        "Write a function `gaussian_plume` to simulate the SO<sub>2</sub>\n",
        "concentration at ground level (mg/m<sup>3</sup>). The `gaussian_plume`\n",
        "function should accept the following inputs:\n",
        "\n",
        "-   the displacement from the source $x$ and $y$, where $x$ is the\n",
        "    distance downwind (km) and $y$ is the distance crosswind (km);\n",
        "-   the wind speed $u$ (m/s);\n",
        "-   the SO<sub>2</sub> emissions rate $Q$ (g/s);\n",
        "-   the effective height of the source $H$ (m);\n",
        "-   the atmospheric stability class (1–6);\n",
        "-   the table of dispersion coefficients `turb_coef`, which is provided\n",
        "    for you below as a\n",
        "    [`DataFrame`](https://dataframes.juliadata.org/stable/)."
      ],
      "id": "8f8907d7-4579-40af-929c-057e9a08b1b0"
    },
    {
      "cell_type": "code",
      "execution_count": 3,
      "metadata": {},
      "outputs": [
        {
          "output_type": "display_data",
          "metadata": {},
          "data": {
            "text/html": [
              "</div>"
            ]
          }
        }
      ],
      "source": [
        "# set up coefficients in matrix form\n",
        "turb_coef = [\n",
        "    213.0  440.8 1.041 9.27  459.7 2.094 -9.6\n",
        "    156.0  106.6 1.149 3.3   108.2 1.098 2.0\n",
        "    104.0  61.0  0.911 0.0   61.0  0.911 0.0\n",
        "    68.0   33.2  0.725 -1.7  44.5  0.516 -13.0\n",
        "    50.5   22.8  0.675 -1.3  55.4  0.305 -34.0\n",
        "    34.0   14.35 0.740 -0.35 62.6  0.180 -48.6 \n",
        "]\n",
        "# now convert to DataFrame with names\n",
        "# column names ending with 1 refer to coefficients for x < 1km, column names ending with 2 refer to coefficients for x > 1km \n",
        "turb_coef = DataFrame(turb_coef, [\"a\", \"c1\", \"d1\", \"f1\", \"c2\", \"d2\", \"f2\"])"
      ],
      "id": "2315f648"
    },
    {
      "cell_type": "markdown",
      "metadata": {},
      "source": [
        "> **DataFrames**\n",
        ">\n",
        "> A `DataFrame` is the standard data structure in Julia for working with\n",
        "> tabular data (if you’ve used Python, you can compare it to `pandas`).\n",
        "> Since `turb_coef` is a `DataFrame`, you can access elements with\n",
        "> syntax like `turb_coef[1, :c]` (to access the first element of a\n",
        "> column named `c`).\n",
        "\n",
        "> **Pass Data To Functions When Possible**\n",
        ">\n",
        "> Remember to pass `turb_coef` to `gaussian_plums` as an argument — this\n",
        "> is generally good Julia (and broader programming) style and improves\n",
        "> performance."
      ],
      "id": "aed1b512-2d61-47d1-a1a1-8a49ec58ad4c"
    },
    {
      "cell_type": "markdown",
      "metadata": {},
      "source": [
        "#### Problem 1.2 (10 points)\n",
        "\n",
        "Assume the wind is blowing at 5 m/s. Use your function to calculate the\n",
        "SO<sub>2</sub> concentration 600 m downwind, both along the centerline\n",
        "and 1 km crosswind, for the neutral (cloudy-day) atmospheric stability\n",
        "class (D/4)."
      ],
      "id": "859310f5-5d0f-41cf-8a6c-f4e24e2460de"
    },
    {
      "cell_type": "markdown",
      "metadata": {},
      "source": [
        "### Problem 1.3 (10 points)\n",
        "\n",
        "Find the exposure standard in the United States for SO<sub>2</sub>\n",
        "(**make sure to cite where you found it!**). How do your results from\n",
        "Problem 1.2 compare?"
      ],
      "id": "7873803a-10c1-4f8d-a3d7-7dc34ecac0f8"
    },
    {
      "cell_type": "markdown",
      "metadata": {},
      "source": [
        "### Problem 2 (35 points)"
      ],
      "id": "07fd367a-4433-45b7-a75d-5a1f9e21bcb1"
    },
    {
      "cell_type": "markdown",
      "metadata": {},
      "source": [
        "#### Problem 2.1 (10 points)\n",
        "\n",
        "Plot (using s\n",
        "[`heatmap`](https://viveks.me/environmental-systems-analysis/tutorials/julia-basics.html#comprehensions))\n",
        "the SO<sub>2</sub> concentration over a 5km downwind by 5km crosswind\n",
        "(relative to the plume source) region for the neutral (cloudy-day)\n",
        "atmospheric stability class (D/4).\n",
        "\n",
        "> **Using Comprehensions to Apply Functions Across Inputs**\n",
        ">\n",
        "> Writing loops in Julia outside of functions can be finicky due to\n",
        "> issues of scope (the details aren’t important, but this has to do with\n",
        "> how Julia compiles code for performance). A solution is to use a\n",
        "> [comprehension](https://viveks.me/environmental-systems-analysis/tutorials/julia-basics.html#comprehensions).\n",
        "> For example, to apply a function `f` over all combinations of two\n",
        "> vectors `x` and `y`,\n",
        ">\n",
        "> ``` julia\n",
        "> [f(i, j) for i in x for j in y]\n",
        "> ```\n",
        ">\n",
        "> will return a 2d array of outputs of `f`."
      ],
      "id": "29bce260-b85c-4d07-a642-7a4032e04966"
    },
    {
      "cell_type": "markdown",
      "metadata": {},
      "source": [
        "#### Problem 2.2 (10 points)\n",
        "\n",
        "Make the same plot for each stability class."
      ],
      "id": "8eacaebb-025e-4c5b-8b25-aebf19586175"
    },
    {
      "cell_type": "markdown",
      "metadata": {},
      "source": [
        "#### Problem 2.3 (10 points)\n",
        "\n",
        "For the neutral stability class, make the same plot for the following\n",
        "wind speeds: 5m/s, 10m/s, 15m/s, 20m/s."
      ],
      "id": "3d5b42d6-476e-43f0-b305-3c7f27b5e8b9"
    },
    {
      "cell_type": "markdown",
      "metadata": {},
      "source": [
        "#### Problem 2.4 (5 points)\n",
        "\n",
        "Compare your results from Problems 2.2 and 2.3, What can you conclude\n",
        "about the impact of atmospheric stability vs. wind speed for pollutant\n",
        "dispersion?"
      ],
      "id": "325bcd05-d617-4182-9f84-3d3be021b302"
    },
    {
      "cell_type": "markdown",
      "metadata": {},
      "source": [
        "### Problem 3 (25 points)\n",
        "\n",
        "Suppose we have two sources, with the following characteristics\n",
        "(distance relative to a ground-level receptor):\n",
        "\n",
        "| Emissions rate (kg/s) | Height (m) | Initial Plume Rise (m) | Upwind Distance (km) | Crosswind Distance (km) |\n",
        "|--------------:|--------------:|--------------:|--------------:|--------------:|\n",
        "|                   1.2 |         75 |                     10 |                  1.5 |                       2 |\n",
        "|                     1 |         60 |                     15 |                 0.75 |                       1 |"
      ],
      "id": "7432528e-c3c4-420f-afce-133947052f28"
    },
    {
      "cell_type": "markdown",
      "metadata": {},
      "source": [
        "#### Problem 3.1 (15 points)\n",
        "\n",
        "If the wind blows at 10 m/s, what is the worst possible concentration of\n",
        "SO<sub>2</sub> at the receptor? Under what atmospheric conditions might\n",
        "these occur?"
      ],
      "id": "31279b4d-c2e0-4d49-a639-7c3706ca0650"
    },
    {
      "cell_type": "markdown",
      "metadata": {},
      "source": [
        "#### Problem 3.2 (10 points)\n",
        "\n",
        "How does this compare to the exposure standard you found for Problem\n",
        "1.3? If a control is needed, what information might you need to make a\n",
        "decision about how to allocate those reductions across the two sources?"
      ],
      "id": "f0a83376-7f3a-4c65-ab81-b71f2c68dfe9"
    },
    {
      "cell_type": "markdown",
      "metadata": {},
      "source": [
        "## References\n",
        "\n",
        "List any external references consulted, including classmates."
      ],
      "id": "b0629bf5-b26f-41fd-8596-af37c86ce3ab"
    }
  ],
  "nbformat": 4,
  "nbformat_minor": 5,
  "metadata": {
    "kernelspec": {
      "name": "julia-1.9",
      "display_name": "Julia 1.9.2",
      "language": "julia"
    },
    "language_info": {
      "name": "julia",
      "file_extension": ".jl",
      "mimetype": "application/julia",
      "version": "1.9.2"
    }
  }
}