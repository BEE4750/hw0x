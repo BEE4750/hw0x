{
  "cells": [
    {
      "cell_type": "markdown",
      "metadata": {},
      "source": [
        "# BEE 4750 Homework 2: Gaussian Plumes\n",
        "\n",
        "**Name**:\n",
        "\n",
        "**ID**:\n",
        "\n",
        "> **Due Date**\n",
        ">\n",
        "> Friday, 9/22/23, 9:00pm\n",
        "\n",
        "## Overview\n",
        "\n",
        "### Instructions\n",
        "\n",
        "-   Problems 1-3 consist of a series of code snippets for you to\n",
        "    interpret and debug. For Problems 1 and 2, you will be asked to\n",
        "    identify relevant error(s) and fix the code. For Problem 3, the code\n",
        "    works as intended; your goal is to identify the code’s purpose by\n",
        "    following its logic.\n",
        "-   Problem 4 asks you to convert a verbal description of a wastewater\n",
        "    treatment system into a Julia function, and then to use that\n",
        "    function to explore the impact of different wastewater allocation\n",
        "    strategies.\n",
        "\n",
        "### Load Environment\n",
        "\n",
        "The following code loads the environment and makes sure all needed\n",
        "packages are installed. This should be at the start of most Julia\n",
        "scripts."
      ],
      "id": "daf0f50b-2ef7-4d2e-8517-7fe3861f17b4"
    },
    {
      "cell_type": "code",
      "execution_count": 1,
      "metadata": {},
      "outputs": [],
      "source": [
        "import Pkg\n",
        "Pkg.activate(@__DIR__)\n",
        "Pkg.instantiate()"
      ],
      "id": "95423f3b"
    },
    {
      "cell_type": "code",
      "execution_count": 2,
      "metadata": {},
      "outputs": [],
      "source": [
        "using Plots\n",
        "using LaTeXStrings\n",
        "using DataFrames"
      ],
      "id": "490420d8"
    },
    {
      "cell_type": "markdown",
      "metadata": {},
      "source": [
        "## Problems (Total: 100 Points)"
      ],
      "id": "929bb27a-9fff-4884-9e7b-d69235017ce0"
    },
    {
      "cell_type": "markdown",
      "metadata": {},
      "source": [
        "### Problem 1 (40 points)\n",
        "\n",
        "A ground-level receptor is located 1.5 km downwind from the center-line\n",
        "of a chimney emitting 2 kg/s of SO<sub>2</sub>. The chimney is 100m high\n",
        "and the plume initially rises another 10m being advected downwind. We\n",
        "want to know what"
      ],
      "id": "5ffed010-eb38-4d6f-b727-4c51b57f28de"
    },
    {
      "cell_type": "markdown",
      "metadata": {},
      "source": [
        "#### Problem 1.1 (20 points)\n",
        "\n",
        "Write a function `gaussian_plume` to simulate the SO<sub>2</sub>\n",
        "concentration at ground level (mg/m<sup>3</sup>). The `gaussian_plume`\n",
        "function should accept the following inputs:\n",
        "\n",
        "-   the displacement from the source $x$ and $y$, where $x$ is the\n",
        "    distance downwind (km) and $y$ is the distance crosswind (km);\n",
        "-   the wind speed $u$ (m/s);\n",
        "-   the SO<sub>2</sub> emissions rate $Q$ (g/s);\n",
        "-   the effective height of the source $H$ (m);\n",
        "-   the atmospheric stability class (1–6);\n",
        "-   the table of dispersion coefficients `turb_coef`, which is provided\n",
        "    for you below as a\n",
        "    [`DataFrame`](https://dataframes.juliadata.org/stable/)."
      ],
      "id": "219c3006-1e13-43b5-83c2-6dcc4006d5f4"
    },
    {
      "cell_type": "code",
      "execution_count": 3,
      "metadata": {},
      "outputs": [
        {
          "output_type": "display_data",
          "metadata": {},
          "data": {
            "text/html": [
              "</div>"
            ]
          }
        }
      ],
      "source": [
        "# set up coefficients in matrix form\n",
        "turb_coef = [\n",
        "    213.0  440.8 1.041 9.27  459.7 2.094 -9.6\n",
        "    156.0  106.6 1.149 3.3   108.2 1.098 2.0\n",
        "    104.0  61.0  0.911 0.0   61.0  0.911 0.0\n",
        "    68.0   33.2  0.725 -1.7  44.5  0.516 -13.0\n",
        "    50.5   22.8  0.675 -1.3  55.4  0.305 -34.0\n",
        "    34.0   14.35 0.740 -0.35 62.6  0.180 -48.6 \n",
        "]\n",
        "# now convert to DataFrame with names\n",
        "# column names ending with 1 refer to coefficients for x < 1km, column names ending with 2 refer to coefficients for x > 1km \n",
        "turb_coef = DataFrame(turb_coef, [\"a\", \"c1\", \"d1\", \"f1\", \"c2\", \"d2\", \"f2\"])"
      ],
      "id": "fe0ae602"
    },
    {
      "cell_type": "markdown",
      "metadata": {},
      "source": [
        "> **DataFrames**\n",
        ">\n",
        "> A `DataFrame` is the standard data structure in Julia for working with\n",
        "> tabular data (if you’ve used Python, you can compare it to `pandas`).\n",
        "> Since `turb_coef` is a `DataFrame`, you can access elements with\n",
        "> syntax like `turb_coef[1, :c]` (to access the first element of a\n",
        "> column named `c`).\n",
        "\n",
        "> **Pass Data To Functions When Possible**\n",
        ">\n",
        "> Remember to pass `turb_coef` to `gaussian_plums` as an argument — this\n",
        "> is generally good Julia (and broader programming) style and improves\n",
        "> performance."
      ],
      "id": "7827e92c-d130-437a-bb47-2de248b3ae00"
    },
    {
      "cell_type": "markdown",
      "metadata": {},
      "source": [
        "#### Problem 1.2 (10 points)\n",
        "\n",
        "Assume the wind is blowing at 5 m/s. Use your function to calculate the\n",
        "SO<sub>2</sub> concentration 600 m downwind, both along the centerline\n",
        "and 1 km crosswind, for the neutral (cloudy-day) atmospheric stability\n",
        "class (D/4)."
      ],
      "id": "470dcb87-ac82-4eab-8cac-1f8d1d1a0263"
    },
    {
      "cell_type": "markdown",
      "metadata": {},
      "source": [
        "### Problem 1.3 (10 points)\n",
        "\n",
        "Find the exposure standard in the United States for SO<sub>2</sub>\n",
        "(**make sure to cite where you found it!**). How do your results from\n",
        "Problem 1.2 compare?"
      ],
      "id": "86ee9664-d4b7-421b-97d9-994ae443aa2c"
    },
    {
      "cell_type": "markdown",
      "metadata": {},
      "source": [
        "### Problem 2 (35 points)"
      ],
      "id": "19abe665-537e-49ba-b1a3-eb41754d7ccc"
    },
    {
      "cell_type": "markdown",
      "metadata": {},
      "source": [
        "#### Problem 2.1 (10 points)\n",
        "\n",
        "Plot (using s\n",
        "[`heatmap`](https://viveks.me/environmental-systems-analysis/tutorials/julia-basics.html#comprehensions))\n",
        "the SO<sub>2</sub> concentration over a 5km downwind by 5km crosswind\n",
        "(relative to the plume source) region for the neutral (cloudy-day)\n",
        "atmospheric stability class (D/4).\n",
        "\n",
        "> **Using Comprehensions to Apply Functions Across Inputs**\n",
        ">\n",
        "> Writing loops in Julia outside of functions can be finicky due to\n",
        "> issues of scope (the details aren’t important, but this has to do with\n",
        "> how Julia compiles code for performance). A solution is to use a\n",
        "> [comprehension](https://viveks.me/environmental-systems-analysis/tutorials/julia-basics.html#comprehensions).\n",
        "> For example, to apply a function `f` over all combinations of two\n",
        "> vectors `x` and `y`,\n",
        ">\n",
        "> ``` julia\n",
        "> [f(i, j) for i in x for j in y]\n",
        "> ```\n",
        ">\n",
        "> will return a 2d array of outputs of `f`."
      ],
      "id": "bb82ed90-8114-4eb5-9c32-a2ccc348c55c"
    },
    {
      "cell_type": "markdown",
      "metadata": {},
      "source": [
        "#### Problem 2.2 (10 points)\n",
        "\n",
        "Make the same plot for each stability class."
      ],
      "id": "4abda4db-1d07-4d7f-b06d-c8d714717614"
    },
    {
      "cell_type": "markdown",
      "metadata": {},
      "source": [
        "#### Problem 2.3 (10 points)\n",
        "\n",
        "For the neutral stability class, make the same plot for the following\n",
        "wind speeds: 5m/s, 10m/s, 15m/s, 20m/s."
      ],
      "id": "dd7bfdb0-3348-42bd-810d-649b95eb8fda"
    },
    {
      "cell_type": "markdown",
      "metadata": {},
      "source": [
        "#### Problem 2.4 (5 points)\n",
        "\n",
        "Compare your results from Problems 2.2 and 2.3, What can you conclude\n",
        "about the impact of atmospheric stability vs. wind speed for pollutant\n",
        "dispersion?"
      ],
      "id": "e12d45f7-d01c-4202-8171-f6ea8543e317"
    },
    {
      "cell_type": "markdown",
      "metadata": {},
      "source": [
        "### Problem 3 (25 points)\n",
        "\n",
        "Suppose we have two sources, with the following characteristics\n",
        "(distance relative to a ground-level receptor):\n",
        "\n",
        "| Emissions rate (kg/s) | Height (m) | Initial Plume Rise (m) | Upwind Distance (km) | Crosswind Distance (km) |\n",
        "|--------------:|--------------:|--------------:|--------------:|--------------:|\n",
        "|                   1.2 |         75 |                     10 |                  1.5 |                       2 |\n",
        "|                     1 |         60 |                     15 |                 0.75 |                       1 |"
      ],
      "id": "b4f95294-c5bc-4672-96ad-f92a9d44c186"
    },
    {
      "cell_type": "markdown",
      "metadata": {},
      "source": [
        "#### Problem 3.1 (15 points)\n",
        "\n",
        "If the wind blows at 10 m/s, what is the worst possible concentration of\n",
        "SO<sub>2</sub> at the receptor? Under what atmospheric conditions might\n",
        "these occur?"
      ],
      "id": "8e698a0a-61d4-4f0c-8ee6-57a0881eb9da"
    },
    {
      "cell_type": "markdown",
      "metadata": {},
      "source": [
        "#### Problem 3.2 (10 points)\n",
        "\n",
        "How does this compare to the exposure standard you found for Problem\n",
        "1.3? If a control is needed, what information might you need to make a\n",
        "decision about how to allocate those reductions across the two sources?"
      ],
      "id": "ff861cab-446c-4cfd-8940-f7f2166836cd"
    }
  ],
  "nbformat": 4,
  "nbformat_minor": 5,
  "metadata": {
    "kernelspec": {
      "name": "julia-1.9",
      "display_name": "Julia 1.9.1",
      "language": "julia"
    },
    "language_info": {
      "name": "julia",
      "file_extension": ".jl",
      "mimetype": "application/julia",
      "version": "1.9.1"
    }
  }
}